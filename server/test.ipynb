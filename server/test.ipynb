{
 "cells": [
  {
   "cell_type": "code",
   "execution_count": 1,
   "metadata": {
    "collapsed": true,
    "deletable": true,
    "editable": true
   },
   "outputs": [],
   "source": [
    "from toastcoin import ToastCoin\n"
   ]
  },
  {
   "cell_type": "code",
   "execution_count": 2,
   "metadata": {
    "collapsed": false,
    "deletable": true,
    "editable": true
   },
   "outputs": [
    {
     "name": "stdout",
     "output_type": "stream",
     "text": [
      "ToastCoin: 0x604f34b251061af7919ed09319bdbbcd937cede5, ../toastcontracts/build/contracts/ToastCoin.json, http://localhost:8545\n",
      "Current block number: 24\n"
     ]
    }
   ],
   "source": [
    "CONTRACT_ADDR = \"0x604f34b251061af7919ed09319bdbbcd937cede5\"\n",
    "# MY_NUM = \"6506302443\"\n",
    "\n",
    "toast_coin = ToastCoin(CONTRACT_ADDR)"
   ]
  },
  {
   "cell_type": "code",
   "execution_count": 3,
   "metadata": {
    "collapsed": false,
    "deletable": true,
    "editable": true
   },
   "outputs": [
    {
     "data": {
      "text/plain": [
       "{'abi': [{'constant': False,\n",
       "   'inputs': [{'name': 'sender', 'type': 'address'},\n",
       "    {'name': 'receiver', 'type': 'address'},\n",
       "    {'name': 'amount', 'type': 'uint256'}],\n",
       "   'name': 'sendCoin',\n",
       "   'outputs': [{'name': 'sufficient', 'type': 'bool'}],\n",
       "   'payable': False,\n",
       "   'type': 'function'},\n",
       "  {'constant': True,\n",
       "   'inputs': [],\n",
       "   'name': 'getCreator',\n",
       "   'outputs': [{'name': '', 'type': 'address'}],\n",
       "   'payable': False,\n",
       "   'type': 'function'},\n",
       "  {'constant': True,\n",
       "   'inputs': [{'name': 'addr', 'type': 'address'}],\n",
       "   'name': 'isUnregistered',\n",
       "   'outputs': [{'name': 'registered', 'type': 'bool'}],\n",
       "   'payable': False,\n",
       "   'type': 'function'},\n",
       "  {'constant': False,\n",
       "   'inputs': [{'name': 'name', 'type': 'string'},\n",
       "    {'name': 'addr', 'type': 'address'}],\n",
       "   'name': 'register',\n",
       "   'outputs': [{'name': 'success', 'type': 'bool'}],\n",
       "   'payable': False,\n",
       "   'type': 'function'},\n",
       "  {'constant': False,\n",
       "   'inputs': [],\n",
       "   'name': 'getStartingAmount',\n",
       "   'outputs': [{'name': '', 'type': 'uint256'}],\n",
       "   'payable': False,\n",
       "   'type': 'function'},\n",
       "  {'constant': False,\n",
       "   'inputs': [{'name': 'receiver', 'type': 'address'},\n",
       "    {'name': 'amount', 'type': 'uint256'}],\n",
       "   'name': 'sendCoin',\n",
       "   'outputs': [{'name': 'sufficient', 'type': 'bool'}],\n",
       "   'payable': False,\n",
       "   'type': 'function'},\n",
       "  {'constant': True,\n",
       "   'inputs': [{'name': 'addr', 'type': 'address'}],\n",
       "   'name': 'getBalance',\n",
       "   'outputs': [{'name': '', 'type': 'uint256'}],\n",
       "   'payable': False,\n",
       "   'type': 'function'},\n",
       "  {'inputs': [], 'payable': False, 'type': 'constructor'},\n",
       "  {'anonymous': False,\n",
       "   'inputs': [{'indexed': True, 'name': '_from', 'type': 'address'},\n",
       "    {'indexed': True, 'name': '_to', 'type': 'address'},\n",
       "    {'indexed': False, 'name': '_value', 'type': 'uint256'}],\n",
       "   'name': 'Transfer',\n",
       "   'type': 'event'}],\n",
       " 'contract_name': 'ToastCoin',\n",
       " 'networks': {'1507396513083': {'address': '0x604f34b251061af7919ed09319bdbbcd937cede5',\n",
       "   'events': {'0xddf252ad1be2c89b69c2b068fc378daa952ba7f163c4a11628f55a4df523b3ef': {'anonymous': False,\n",
       "     'inputs': [{'indexed': True, 'name': '_from', 'type': 'address'},\n",
       "      {'indexed': True, 'name': '_to', 'type': 'address'},\n",
       "      {'indexed': False, 'name': '_value', 'type': 'uint256'}],\n",
       "     'name': 'Transfer',\n",
       "     'type': 'event'}},\n",
       "   'links': {},\n",
       "   'updated_at': 1507398046720}},\n",
       " 'schema_version': '0.0.5',\n",
       " 'unlinked_binary': '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',\n",
       " 'updated_at': 1507398046720}"
      ]
     },
     "execution_count": 3,
     "metadata": {},
     "output_type": "execute_result"
    }
   ],
   "source": [
    "toast_coin.contract.abi"
   ]
  },
  {
   "cell_type": "code",
   "execution_count": 5,
   "metadata": {
    "collapsed": false,
    "deletable": true,
    "editable": true
   },
   "outputs": [
    {
     "ename": "TypeError",
     "evalue": "string indices must be integers",
     "output_type": "error",
     "traceback": [
      "\u001b[0;31m---------------------------------------------------------------------------\u001b[0m",
      "\u001b[0;31mTypeError\u001b[0m                                 Traceback (most recent call last)",
      "\u001b[0;32m<ipython-input-5-2749f82e3627>\u001b[0m in \u001b[0;36m<module>\u001b[0;34m()\u001b[0m\n\u001b[0;32m----> 1\u001b[0;31m \u001b[0mtoast_coin\u001b[0m\u001b[0;34m.\u001b[0m\u001b[0mcontract\u001b[0m\u001b[0;34m.\u001b[0m\u001b[0mdeploy\u001b[0m\u001b[0;34m(\u001b[0m\u001b[0;34m)\u001b[0m\u001b[0;34m\u001b[0m\u001b[0m\n\u001b[0m",
      "\u001b[0;32m/usr/local/lib/python3.6/site-packages/web3/contract.py\u001b[0m in \u001b[0;36mdeploy\u001b[0;34m(cls, transaction, args, kwargs)\u001b[0m\n\u001b[1;32m    305\u001b[0m             )\n\u001b[1;32m    306\u001b[0m \u001b[0;34m\u001b[0m\u001b[0m\n\u001b[0;32m--> 307\u001b[0;31m         \u001b[0mdeploy_transaction\u001b[0m\u001b[0;34m[\u001b[0m\u001b[0;34m'data'\u001b[0m\u001b[0;34m]\u001b[0m \u001b[0;34m=\u001b[0m \u001b[0mcls\u001b[0m\u001b[0;34m.\u001b[0m\u001b[0m_encode_constructor_data\u001b[0m\u001b[0;34m(\u001b[0m\u001b[0margs\u001b[0m\u001b[0;34m,\u001b[0m \u001b[0mkwargs\u001b[0m\u001b[0;34m)\u001b[0m\u001b[0;34m\u001b[0m\u001b[0m\n\u001b[0m\u001b[1;32m    308\u001b[0m \u001b[0;34m\u001b[0m\u001b[0m\n\u001b[1;32m    309\u001b[0m         \u001b[0;31m# TODO: handle asynchronous contract creation\u001b[0m\u001b[0;34m\u001b[0m\u001b[0;34m\u001b[0m\u001b[0m\n",
      "\u001b[0;32m/usr/local/lib/python3.6/site-packages/eth_utils/string.py\u001b[0m in \u001b[0;36minner\u001b[0;34m(*args, **kwargs)\u001b[0m\n\u001b[1;32m     83\u001b[0m     \u001b[0;34m@\u001b[0m\u001b[0mfunctools\u001b[0m\u001b[0;34m.\u001b[0m\u001b[0mwraps\u001b[0m\u001b[0;34m(\u001b[0m\u001b[0mfn\u001b[0m\u001b[0;34m)\u001b[0m\u001b[0;34m\u001b[0m\u001b[0m\n\u001b[1;32m     84\u001b[0m     \u001b[0;32mdef\u001b[0m \u001b[0minner\u001b[0m\u001b[0;34m(\u001b[0m\u001b[0;34m*\u001b[0m\u001b[0margs\u001b[0m\u001b[0;34m,\u001b[0m \u001b[0;34m**\u001b[0m\u001b[0mkwargs\u001b[0m\u001b[0;34m)\u001b[0m\u001b[0;34m:\u001b[0m\u001b[0;34m\u001b[0m\u001b[0m\n\u001b[0;32m---> 85\u001b[0;31m         \u001b[0;32mreturn\u001b[0m \u001b[0mforce_obj_to_text\u001b[0m\u001b[0;34m(\u001b[0m\u001b[0mfn\u001b[0m\u001b[0;34m(\u001b[0m\u001b[0;34m*\u001b[0m\u001b[0margs\u001b[0m\u001b[0;34m,\u001b[0m \u001b[0;34m**\u001b[0m\u001b[0mkwargs\u001b[0m\u001b[0;34m)\u001b[0m\u001b[0;34m)\u001b[0m\u001b[0;34m\u001b[0m\u001b[0m\n\u001b[0m\u001b[1;32m     86\u001b[0m     \u001b[0;32mreturn\u001b[0m \u001b[0minner\u001b[0m\u001b[0;34m\u001b[0m\u001b[0m\n",
      "\u001b[0;32m/usr/local/lib/python3.6/site-packages/web3/contract.py\u001b[0m in \u001b[0;36m_encode_constructor_data\u001b[0;34m(cls, args, kwargs)\u001b[0m\n\u001b[1;32m    736\u001b[0m     \u001b[0;34m@\u001b[0m\u001b[0mcoerce_return_to_text\u001b[0m\u001b[0;34m\u001b[0m\u001b[0m\n\u001b[1;32m    737\u001b[0m     \u001b[0;32mdef\u001b[0m \u001b[0m_encode_constructor_data\u001b[0m\u001b[0;34m(\u001b[0m\u001b[0mcls\u001b[0m\u001b[0;34m,\u001b[0m \u001b[0margs\u001b[0m\u001b[0;34m=\u001b[0m\u001b[0;32mNone\u001b[0m\u001b[0;34m,\u001b[0m \u001b[0mkwargs\u001b[0m\u001b[0;34m=\u001b[0m\u001b[0;32mNone\u001b[0m\u001b[0;34m)\u001b[0m\u001b[0;34m:\u001b[0m\u001b[0;34m\u001b[0m\u001b[0m\n\u001b[0;32m--> 738\u001b[0;31m         \u001b[0mconstructor_abi\u001b[0m \u001b[0;34m=\u001b[0m \u001b[0mget_constructor_abi\u001b[0m\u001b[0;34m(\u001b[0m\u001b[0mcls\u001b[0m\u001b[0;34m.\u001b[0m\u001b[0mabi\u001b[0m\u001b[0;34m)\u001b[0m\u001b[0;34m\u001b[0m\u001b[0m\n\u001b[0m\u001b[1;32m    739\u001b[0m \u001b[0;34m\u001b[0m\u001b[0m\n\u001b[1;32m    740\u001b[0m         \u001b[0;32mif\u001b[0m \u001b[0mconstructor_abi\u001b[0m\u001b[0;34m:\u001b[0m\u001b[0;34m\u001b[0m\u001b[0m\n",
      "\u001b[0;32m/usr/local/lib/python3.6/site-packages/web3/utils/abi.py\u001b[0m in \u001b[0;36mget_constructor_abi\u001b[0;34m(contract_abi)\u001b[0m\n\u001b[1;32m    228\u001b[0m \u001b[0;32mdef\u001b[0m \u001b[0mget_constructor_abi\u001b[0m\u001b[0;34m(\u001b[0m\u001b[0mcontract_abi\u001b[0m\u001b[0;34m)\u001b[0m\u001b[0;34m:\u001b[0m\u001b[0;34m\u001b[0m\u001b[0m\n\u001b[1;32m    229\u001b[0m     candidates = [\n\u001b[0;32m--> 230\u001b[0;31m         \u001b[0mabi\u001b[0m \u001b[0;32mfor\u001b[0m \u001b[0mabi\u001b[0m \u001b[0;32min\u001b[0m \u001b[0mcontract_abi\u001b[0m \u001b[0;32mif\u001b[0m \u001b[0mabi\u001b[0m\u001b[0;34m[\u001b[0m\u001b[0;34m'type'\u001b[0m\u001b[0;34m]\u001b[0m \u001b[0;34m==\u001b[0m \u001b[0;34m'constructor'\u001b[0m\u001b[0;34m\u001b[0m\u001b[0m\n\u001b[0m\u001b[1;32m    231\u001b[0m     ]\n\u001b[1;32m    232\u001b[0m     \u001b[0;32mif\u001b[0m \u001b[0mlen\u001b[0m\u001b[0;34m(\u001b[0m\u001b[0mcandidates\u001b[0m\u001b[0;34m)\u001b[0m \u001b[0;34m==\u001b[0m \u001b[0;36m1\u001b[0m\u001b[0;34m:\u001b[0m\u001b[0;34m\u001b[0m\u001b[0m\n",
      "\u001b[0;32m/usr/local/lib/python3.6/site-packages/web3/utils/abi.py\u001b[0m in \u001b[0;36m<listcomp>\u001b[0;34m(.0)\u001b[0m\n\u001b[1;32m    228\u001b[0m \u001b[0;32mdef\u001b[0m \u001b[0mget_constructor_abi\u001b[0m\u001b[0;34m(\u001b[0m\u001b[0mcontract_abi\u001b[0m\u001b[0;34m)\u001b[0m\u001b[0;34m:\u001b[0m\u001b[0;34m\u001b[0m\u001b[0m\n\u001b[1;32m    229\u001b[0m     candidates = [\n\u001b[0;32m--> 230\u001b[0;31m         \u001b[0mabi\u001b[0m \u001b[0;32mfor\u001b[0m \u001b[0mabi\u001b[0m \u001b[0;32min\u001b[0m \u001b[0mcontract_abi\u001b[0m \u001b[0;32mif\u001b[0m \u001b[0mabi\u001b[0m\u001b[0;34m[\u001b[0m\u001b[0;34m'type'\u001b[0m\u001b[0;34m]\u001b[0m \u001b[0;34m==\u001b[0m \u001b[0;34m'constructor'\u001b[0m\u001b[0;34m\u001b[0m\u001b[0m\n\u001b[0m\u001b[1;32m    231\u001b[0m     ]\n\u001b[1;32m    232\u001b[0m     \u001b[0;32mif\u001b[0m \u001b[0mlen\u001b[0m\u001b[0;34m(\u001b[0m\u001b[0mcandidates\u001b[0m\u001b[0;34m)\u001b[0m \u001b[0;34m==\u001b[0m \u001b[0;36m1\u001b[0m\u001b[0;34m:\u001b[0m\u001b[0;34m\u001b[0m\u001b[0m\n",
      "\u001b[0;31mTypeError\u001b[0m: string indices must be integers"
     ]
    }
   ],
   "source": [
    "toast_coin.contract.deploy()"
   ]
  },
  {
   "cell_type": "code",
   "execution_count": null,
   "metadata": {
    "collapsed": true,
    "deletable": true,
    "editable": true
   },
   "outputs": [],
   "source": []
  },
  {
   "cell_type": "code",
   "execution_count": null,
   "metadata": {
    "collapsed": true,
    "deletable": true,
    "editable": true
   },
   "outputs": [],
   "source": []
  }
 ],
 "metadata": {
  "kernelspec": {
   "display_name": "Python 3",
   "language": "python",
   "name": "python3"
  }
 },
 "nbformat": 4,
 "nbformat_minor": 2
}
